{
 "cells": [
  {
   "cell_type": "code",
   "execution_count": 1,
   "metadata": {},
   "outputs": [
    {
     "name": "stdout",
     "output_type": "stream",
     "text": [
      "finest move for X: (0, 1)\n"
     ]
    }
   ],
   "source": [
    "#Im using min max algorithm \n",
    "\n",
    "play = [\n",
    "    [1, 0, -1],\n",
    "    [-1, 1, 0],\n",
    "    [0, -1, 1]\n",
    "]\n",
    "\n",
    "def check_winner(player):\n",
    "    for i in range(3):\n",
    "        if all(play[i][j] == player for j in range(3)) or all(play[j][i] == player for j in range(3)):\n",
    "            return True\n",
    "    if play[0][0] == play[1][1] == play[2][2] == player or play[0][2] == play[1][1] == play[2][0] == player:\n",
    "        return True\n",
    "    return False\n",
    "\n",
    "def minimax(is_max):\n",
    "    if check_winner(1): return 10\n",
    "    if check_winner(-1): return -10\n",
    "    if all(play[i][j] != 0 for i in range(3) for j in range(3)): return 0\n",
    "    \n",
    "    best = -float('inf') if is_max else float('inf')\n",
    "    for i in range(3):\n",
    "        for j in range(3):\n",
    "            if play[i][j] == 0:\n",
    "                play[i][j] = 1 if is_max else -1\n",
    "                score = minimax(not is_max)\n",
    "                play[i][j] = 0\n",
    "                best = max(best, score) if is_max else min(best, score)\n",
    "    return best\n",
    "\n",
    "def best_move():\n",
    "    best = -float('inf')\n",
    "    move = None\n",
    "    for i in range(3):\n",
    "        for j in range(3):\n",
    "            if play[i][j] == 0:\n",
    "                play[i][j] = 1\n",
    "                score = minimax(False)\n",
    "                play[i][j] = 0\n",
    "                if score > best:\n",
    "                    best = score\n",
    "                    move = (i, j)\n",
    "    return move\n",
    "\n",
    "move = best_move()\n",
    "print(f\"finest move for X: {move}\")\n"
   ]
  }
 ],
 "metadata": {
  "kernelspec": {
   "display_name": "Python 3",
   "language": "python",
   "name": "python3"
  },
  "language_info": {
   "codemirror_mode": {
    "name": "ipython",
    "version": 3
   },
   "file_extension": ".py",
   "mimetype": "text/x-python",
   "name": "python",
   "nbconvert_exporter": "python",
   "pygments_lexer": "ipython3",
   "version": "3.11.9"
  }
 },
 "nbformat": 4,
 "nbformat_minor": 2
}
