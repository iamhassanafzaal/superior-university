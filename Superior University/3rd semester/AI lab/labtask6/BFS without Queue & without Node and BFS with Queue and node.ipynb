{
 "cells": [
  {
   "cell_type": "code",
   "execution_count": 11,
   "metadata": {},
   "outputs": [],
   "source": [
    "#Graph\n",
    "\n",
    "Graph = {\n",
    "    'L': ['O', 'V'],\n",
    "    'O': ['E', 'Y'],\n",
    "    'V': ['O', 'U'],\n",
    "    'E': [],\n",
    "    'Y': [],\n",
    "    'U': []\n",
    "}"
   ]
  },
  {
   "cell_type": "code",
   "execution_count": 13,
   "metadata": {},
   "outputs": [
    {
     "name": "stdout",
     "output_type": "stream",
     "text": [
      " NO Queue and  Node: ['L', 'O', 'V', 'E', 'Y', 'U']\n"
     ]
    }
   ],
   "source": [
    "#BFS without Quene\n",
    "\n",
    "def bfs_no_queue(graph, cur_nodes, looked):\n",
    "    next_nodes = [] \n",
    "    for node in cur_nodes:\n",
    "        if node not in looked:\n",
    "            looked.append(node) \n",
    "            next_nodes.extend(graph[node]) \n",
    "    if next_nodes: \n",
    "        bfs_no_queue(graph, next_nodes, looked)\n",
    "    return looked\n",
    "\n",
    "\n",
    "looked = bfs_no_queue(Graph, ['L'], [])\n",
    "print(\" NO Queue and  Node:\", looked)\n"
   ]
  },
  {
   "cell_type": "code",
   "execution_count": null,
   "metadata": {},
   "outputs": [
    {
     "name": "stdout",
     "output_type": "stream",
     "text": [
      "yes Queue and Node: ['L', 'O', 'V', 'E', 'Y', 'U']\n"
     ]
    }
   ],
   "source": [
    "#doing both part in one file because github showing me error while uploading second part in different file \n",
    "\n",
    "from collections import deque\n",
    "\n",
    "# Graph\n",
    "Graph = {\n",
    "    'L': ['O', 'V'],\n",
    "    'O': ['E', 'Y'],\n",
    "    'V': ['O', 'U'],\n",
    "    'E': [],\n",
    "    'Y': [],\n",
    "    'U': []\n",
    "}\n",
    "\n",
    "# BFS With Queue & node\n",
    "def bfs_with_queue(graph, start_nod):\n",
    "    queue = deque([start_nod]) \n",
    "    looked = []  \n",
    "    while queue:  \n",
    "        nod = queue.popleft()  \n",
    "        if nod not in looked:  \n",
    "            looked.append(nod)  \n",
    "            queue.extend(graph[nod]) \n",
    "    return looked\n",
    "looked = bfs_with_queue(Graph, 'L')\n",
    "print(\"yes Queue and Node:\", looked)\n"
   ]
  }
 ],
 "metadata": {
  "kernelspec": {
   "display_name": "Python 3",
   "language": "python",
   "name": "python3"
  },
  "language_info": {
   "codemirror_mode": {
    "name": "ipython",
    "version": 3
   },
   "file_extension": ".py",
   "mimetype": "text/x-python",
   "name": "python",
   "nbconvert_exporter": "python",
   "pygments_lexer": "ipython3",
   "version": "3.11.9"
  }
 },
 "nbformat": 4,
 "nbformat_minor": 2
}
