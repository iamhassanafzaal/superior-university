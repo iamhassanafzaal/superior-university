{
 "cells": [
  {
   "cell_type": "code",
   "execution_count": 1,
   "metadata": {},
   "outputs": [],
   "source": [
    "Graph = {\n",
    "    'L': ['O', 'V'],\n",
    "    'O': ['E', 'Y'],\n",
    "    'V': ['O', 'U'],\n",
    "    'E': [],\n",
    "    'Y': [],\n",
    "    'U': []\n",
    "}"
   ]
  },
  {
   "cell_type": "code",
   "execution_count": 2,
   "metadata": {},
   "outputs": [
    {
     "name": "stdout",
     "output_type": "stream",
     "text": [
      "Pre-order :  ['L', 'O', 'E', 'Y', 'V', 'O', 'E', 'Y', 'U']\n"
     ]
    }
   ],
   "source": [
    "#Pre-order  in DFS:\n",
    "def preorder(bump, result):\n",
    "    if bump:\n",
    "        result.append(bump)\n",
    "        for child in Graph[bump]:\n",
    "            preorder(child, result)\n",
    "\n",
    "PreorderResult = []\n",
    "preorder('L', PreorderResult)\n",
    "print(\"Pre-order : \", PreorderResult)"
   ]
  },
  {
   "cell_type": "code",
   "execution_count": 3,
   "metadata": {},
   "outputs": [
    {
     "name": "stdout",
     "output_type": "stream",
     "text": [
      "Post-order :  ['E', 'Y', 'O', 'E', 'Y', 'O', 'U', 'V', 'L']\n"
     ]
    }
   ],
   "source": [
    "#Post-order  in DFS:\n",
    "def postorder(lolbump, result):\n",
    "    if lolbump:\n",
    "        for child in Graph[lolbump]:\n",
    "            postorder(child, result)\n",
    "        result.append(lolbump)\n",
    "\n",
    "PostOrderResult = []\n",
    "postorder('L', PostOrderResult)\n",
    "print(\"Post-order : \", PostOrderResult)"
   ]
  },
  {
   "cell_type": "code",
   "execution_count": 4,
   "metadata": {},
   "outputs": [
    {
     "name": "stdout",
     "output_type": "stream",
     "text": [
      "In-order :  ['E', 'O', 'Y', 'L', 'E', 'O', 'Y', 'V', 'U']\n"
     ]
    }
   ],
   "source": [
    "#In-order  in DFS\n",
    "def inorder(hehenode, result):\n",
    "    if hehenode:\n",
    "        children = Graph[hehenode]\n",
    "        if children:\n",
    "            inorder(children[0], result)\n",
    "        result.append(hehenode)\n",
    "        for child in children[1:]:\n",
    "            inorder(child, result)\n",
    "\n",
    "InOrderResult = []\n",
    "inorder('L', InOrderResult)\n",
    "print(\"In-order : \", InOrderResult)"
   ]
  }
 ],
 "metadata": {
  "kernelspec": {
   "display_name": "Python 3",
   "language": "python",
   "name": "python3"
  },
  "language_info": {
   "codemirror_mode": {
    "name": "ipython",
    "version": 3
   },
   "file_extension": ".py",
   "mimetype": "text/x-python",
   "name": "python",
   "nbconvert_exporter": "python",
   "pygments_lexer": "ipython3",
   "version": "3.11.9"
  }
 },
 "nbformat": 4,
 "nbformat_minor": 2
}
