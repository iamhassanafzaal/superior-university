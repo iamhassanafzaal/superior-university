{
 "cells": [
  {
   "cell_type": "code",
   "execution_count": 6,
   "metadata": {},
   "outputs": [
    {
     "name": "stdout",
     "output_type": "stream",
     "text": [
      "Target node found!:  O\n",
      "Explored Nodes:  ['L', 'O']\n",
      "\n",
      "Graph Representation: \n",
      "        L\n",
      "       / \\\n",
      "      O   V\n",
      "     / \\ / \\\n",
      "    E  Y O  U\n"
     ]
    }
   ],
   "source": [
    "Graph = {\n",
    "    'L': ['O', 'V'],\n",
    "    'O': ['E', 'Y'],\n",
    "    'V': ['O', 'U'],\n",
    "    'E': [],\n",
    "    'Y': [],\n",
    "    'O': [],\n",
    "    'U': []\n",
    "}\n",
    "\n",
    "def depth_first_search(start_node, target_node):\n",
    "    stack = [start_node]\n",
    "    explored = []\n",
    "\n",
    "    while stack:\n",
    "        current = stack.pop()\n",
    "        if current not in explored:\n",
    "            explored.append(current)\n",
    "            if current == target_node:\n",
    "                print(\"Target node found!: \", current)\n",
    "                return explored\n",
    "            for neighbor in reversed(Graph[current]):\n",
    "                stack.append(neighbor)\n",
    "    return explored\n",
    "\n",
    "visited_nodes = depth_first_search('L', 'O')\n",
    "print(\"Explored Nodes: \", visited_nodes)\n",
    "\n",
    "def display_graph():\n",
    "    print(\"\\nGraph Representation: \")\n",
    "    print(\"        L\")\n",
    "    print(\"       / \\\\\")\n",
    "    print(\"      O   V\")\n",
    "    print(\"     / \\\\ / \\\\\")\n",
    "    print(\"    E  Y O  U\")\n",
    "\n",
    "display_graph()\n"
   ]
  }
 ],
 "metadata": {
  "kernelspec": {
   "display_name": "Python 3",
   "language": "python",
   "name": "python3"
  },
  "language_info": {
   "codemirror_mode": {
    "name": "ipython",
    "version": 3
   },
   "file_extension": ".py",
   "mimetype": "text/x-python",
   "name": "python",
   "nbconvert_exporter": "python",
   "pygments_lexer": "ipython3",
   "version": "3.11.9"
  }
 },
 "nbformat": 4,
 "nbformat_minor": 2
}
