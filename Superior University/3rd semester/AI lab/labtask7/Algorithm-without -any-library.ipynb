{
 "cells": [
  {
   "cell_type": "code",
   "execution_count": 1,
   "metadata": {},
   "outputs": [
    {
     "name": "stdout",
     "output_type": "stream",
     "text": [
      "Path: ['A', 'B', 'D', 'H']\n",
      "Total rate: -2\n"
     ]
    }
   ],
   "source": [
    "#graph\n",
    "\n",
    "graph = {\n",
    "    'A': {'B': 1, 'C': 3},\n",
    "    'B': {'D': 1, 'E': 5},\n",
    "    'C': {'F': 2, 'G': 6},\n",
    "    'D': {'H': 4},\n",
    "    'E': {'H': 2},\n",
    "    'F': {'H': 1},\n",
    "    'G': {'H': 9},\n",
    "    'H': {}\n",
    "}\n",
    "\n",
    "#heuristic for every nnode\n",
    "heuristic = {\n",
    "    'A': 8,\n",
    "    'B': 6,\n",
    "    'C': 4,\n",
    "    'D': 4,\n",
    "    'E': 2,\n",
    "    'F': 3,\n",
    "    'G': 6,\n",
    "    'H': 0\n",
    "}\n",
    "\n",
    "\n",
    "#A*\n",
    "\n",
    "def a_star(first, end):\n",
    "    open_list = [(first, 0)]\n",
    "    visited = []\n",
    "    path = {first: [first]}\n",
    "    while open_list:\n",
    "        open_list.sort(key=lambda x: x[1])\n",
    "        rightnow, rate = open_list.pop(0)\n",
    "        if rightnow == end:\n",
    "            return path[rightnow], rate\n",
    "        if rightnow in visited:\n",
    "            continue\n",
    "        visited.append(rightnow)\n",
    "        for sath, edge_cost in graph[rightnow].items():\n",
    "            if sath not in visited:\n",
    "                total_cost = rate + edge_cost + heuristic[sath] - heuristic[rightnow]\n",
    "                open_list.append((sath, total_cost))\n",
    "                path[sath] = path[rightnow] + [sath]\n",
    "    return None, 0\n",
    "\n",
    "path, rate = a_star('A', 'H')\n",
    "print(\"Path:\", path)\n",
    "print(\"Total rate:\", rate)"
   ]
  }
 ],
 "metadata": {
  "kernelspec": {
   "display_name": "Python 3",
   "language": "python",
   "name": "python3"
  },
  "language_info": {
   "codemirror_mode": {
    "name": "ipython",
    "version": 3
   },
   "file_extension": ".py",
   "mimetype": "text/x-python",
   "name": "python",
   "nbconvert_exporter": "python",
   "pygments_lexer": "ipython3",
   "version": "3.11.9"
  }
 },
 "nbformat": 4,
 "nbformat_minor": 2
}
